{
 "cells": [
  {
   "cell_type": "markdown",
   "id": "eaac0acc-72b2-445c-b6b9-d9e06302ddc1",
   "metadata": {},
   "source": [
    "# Importiere Pakete"
   ]
  },
  {
   "cell_type": "code",
   "execution_count": null,
   "id": "b75048ad-e72d-4bd4-a825-1733fa6c75d0",
   "metadata": {},
   "outputs": [],
   "source": [
    "from pathlib import Path\n",
    "\n",
    "import seaborn as sns\n",
    "import matplotlib.pyplot as plt\n",
    "import numpy as np\n",
    "import pandas as pd\n",
    "import networkx as nx\n",
    "\n",
    "from IPython.display import display, HTML\n",
    "\n",
    "plt.style.use('fivethirtyeight')\n",
    "pd.set_option(\"display.max_columns\", None)\n",
    "pd.set_option(\"display.max_rows\", None)\n",
    "pd.set_option(\"display.max_colwidth\", None)\n",
    "pd.set_option('future.no_silent_downcasting', True)\n",
    "\n",
    "np.random.seed(42)"
   ]
  },
  {
   "cell_type": "markdown",
   "id": "ac6fe32d-6201-4cd1-8b6a-b55ed85513eb",
   "metadata": {},
   "source": [
    "# Lade Datensatz"
   ]
  },
  {
   "cell_type": "code",
   "execution_count": null,
   "id": "e8513e11-dfee-4331-9fea-8ea20932879b",
   "metadata": {},
   "outputs": [],
   "source": [
    "DATA_DIR = Path(\"./HUK_MA_CC/\")\n",
    "\n",
    "interesse = pd.read_csv(DATA_DIR/\"interesse.csv\", sep=\",\")\n",
    "alter_geschlecht = pd.read_csv(DATA_DIR/\"alter_geschlecht.csv\", sep=\",\")\n",
    "rest = pd.read_csv(DATA_DIR/\"rest.csv\", sep=\";\")"
   ]
  },
  {
   "cell_type": "markdown",
   "id": "daa6a760-f04f-4e14-8f6e-6275b5ae88c8",
   "metadata": {},
   "source": [
    "# Explorative Datenanalyse"
   ]
  },
  {
   "cell_type": "markdown",
   "id": "7036d50e-c55e-4fe4-a999-c490b174c3b7",
   "metadata": {},
   "source": [
    "## Hilfsfunktionen"
   ]
  },
  {
   "cell_type": "code",
   "execution_count": null,
   "id": "2dc543df-507a-41da-83e9-7a4c4657b33e",
   "metadata": {},
   "outputs": [],
   "source": [
    "def create_info_table(df: pd.DataFrame) -> pd.DataFrame:\n",
    "    df_merged_info = pd.DataFrame({\"dtypes\": df.infer_objects(False).dtypes, \"num_nans\": df.isna().sum(), \"nunique\": df.nunique()})\n",
    "    df_merged_info_with_describe = pd.concat([df_merged_info, df.describe().T], axis=1)\n",
    "    return df_merged_info_with_describe"
   ]
  },
  {
   "cell_type": "code",
   "execution_count": null,
   "id": "018a09cb-18b7-4603-bd7c-9da76d75de69",
   "metadata": {},
   "outputs": [],
   "source": [
    "def print_unique_values(df: pd.DataFrame, columns: list[str]=None) -> None:\n",
    "    columns = columns or df.columns\n",
    "    for column in columns:\n",
    "        unique_values = df[column].unique()\n",
    "        nunique = len(unique_values)\n",
    "        print(f\"Einzigartige Elemente in Spalte '{column}': ({nunique} verschiedene Elemente)\")\n",
    "        print(df[column].unique(), end=\"\\n\\n\")"
   ]
  },
  {
   "cell_type": "code",
   "execution_count": null,
   "id": "25276d34-c332-4718-9c22-4cb060ca95ba",
   "metadata": {},
   "outputs": [],
   "source": [
    "def print_unique_values2(df: pd.DataFrame, columns_to_exclude: list[str]=None, max_lines_to_print: int=None) -> None:\n",
    "    columns_to_exclude = columns_to_exclude or []\n",
    "    columns = [c for c in df.columns if c not in columns_to_exclude]\n",
    "    max_lines_to_print = max_lines_to_print or len(df)\n",
    "    for column in columns:\n",
    "        unique_values = df[column].value_counts().sort_values(ascending=False).reset_index()\n",
    "        unique_values.columns = [\"Wert\", \"Anzahl\"]\n",
    "        unique_values[\"Prozent\"] = (unique_values[\"Anzahl\"] / len(df)) * 100\n",
    "        unique_values_max_lines = unique_values.head(max_lines_to_print)\n",
    "        print(f\"Einzigartige Elemente in Spalte '{column}':\\n{unique_values_max_lines}\", end=\"\\n\\n\")"
   ]
  },
  {
   "cell_type": "code",
   "execution_count": null,
   "id": "94531b00-aef2-47d7-b93a-f12275e1d739",
   "metadata": {},
   "outputs": [],
   "source": [
    "def plot_histogram(df: pd.DataFrame, name: str, bins: int, x_tick_interval: int) -> None:\n",
    "    counts = df[name].value_counts().sort_index()\n",
    "    counts.plot(kind='bar', color='skyblue')\n",
    "    plt.xlabel(f\"{name}\")\n",
    "    plt.ylabel(\"Counts\")\n",
    "    plt.title(f\"{name}-Hist ({bins} Bins)\")\n",
    "    tick_positions = range(len(counts))\n",
    "    plt.xticks(tick_positions[::x_tick_interval], counts.index[::x_tick_interval], rotation=45)\n",
    "    plt.tight_layout(pad=1.4)\n",
    "    plt.grid(None)\n",
    "    plt.show()"
   ]
  },
  {
   "cell_type": "code",
   "execution_count": null,
   "id": "26ab376c-88f4-40dd-a2ee-b8c8ed011fd7",
   "metadata": {},
   "outputs": [],
   "source": [
    "def plot_histogram2(df: pd.DataFrame, name: str, bins: int) -> None:\n",
    "    df.hist(column=name, bins=bins)\n",
    "    plt.xlabel(f\"{name}\")\n",
    "    plt.ylabel(\"Counts\")\n",
    "    plt.title(f\"{name}-Hist ({bins} Bins)\")\n",
    "    plt.tight_layout(pad=1.4)\n",
    "    plt.grid(None)\n",
    "    plt.show()"
   ]
  },
  {
   "cell_type": "code",
   "execution_count": null,
   "id": "2225233a-d475-48bb-9b0a-9d18cd6b2dc3",
   "metadata": {},
   "outputs": [],
   "source": [
    "def plot_histogram3(df: pd.DataFrame, x: str, **kwargs) -> None:\n",
    "    sns.histplot(data=df, x=x, **kwargs)\n",
    "    plt.xlabel(f\"{x}\")\n",
    "    plt.ylabel(\"Counts\")\n",
    "    plt.title(f\"{x}-Hist\")\n",
    "    plt.tight_layout(pad=1.4)\n",
    "    plt.xlim(min(df[x]), max(df[x]))\n",
    "    plt.grid(None)\n",
    "    plt.show()"
   ]
  },
  {
   "cell_type": "markdown",
   "id": "0ddc14f2-dcc5-422c-9b3a-5bf3a68c5e98",
   "metadata": {},
   "source": [
    "## Überblick über Tabellen"
   ]
  },
  {
   "cell_type": "markdown",
   "id": "6bd1fca5-3003-4d15-a9c7-99497d53dfd3",
   "metadata": {},
   "source": [
    "### interesse.csv"
   ]
  },
  {
   "cell_type": "code",
   "execution_count": null,
   "id": "156beda4-b818-4e23-9c30-d0e4a6cf62de",
   "metadata": {},
   "outputs": [],
   "source": [
    "interesse_info = create_info_table(interesse)\n",
    "display(interesse_info)\n",
    "print_unique_values2(interesse, [\"id\"])"
   ]
  },
  {
   "cell_type": "markdown",
   "id": "f60efee7-cd6a-47ea-a71c-d5d3a947bb4f",
   "metadata": {},
   "source": [
    "### alter_geschlecht.csv"
   ]
  },
  {
   "cell_type": "code",
   "execution_count": null,
   "id": "8d6e4527-d176-4c4e-a3dd-ada3596cae6b",
   "metadata": {
    "scrolled": true
   },
   "outputs": [],
   "source": [
    "alter_geschlecht_info = create_info_table(alter_geschlecht)\n",
    "display(alter_geschlecht_info)\n",
    "print_unique_values2(alter_geschlecht, [\"id\"], max_lines_to_print=100)"
   ]
  },
  {
   "cell_type": "markdown",
   "id": "3e1e2a50-66a5-4137-915a-aee90fc7dd92",
   "metadata": {},
   "source": [
    "### rest.csv"
   ]
  },
  {
   "cell_type": "code",
   "execution_count": null,
   "id": "e353ad86-c870-4f0a-9470-675cbff4efc1",
   "metadata": {
    "scrolled": true
   },
   "outputs": [],
   "source": [
    "rest_info = create_info_table(rest)\n",
    "display(rest_info)\n",
    "print_unique_values2(rest, [\"id\"], max_lines_to_print=100)"
   ]
  },
  {
   "cell_type": "markdown",
   "id": "da60fb8a-73e4-4de6-9cd3-f8f32fba2301",
   "metadata": {},
   "source": [
    "## Zusammenführung der Tabellen"
   ]
  },
  {
   "cell_type": "code",
   "execution_count": null,
   "id": "28bd4d39-1dff-47f5-9687-e48f9251e01e",
   "metadata": {},
   "outputs": [],
   "source": [
    "alter_geschlecht_interesse = pd.merge(alter_geschlecht, interesse, on=\"id\", how=\"inner\")"
   ]
  },
  {
   "cell_type": "code",
   "execution_count": null,
   "id": "041b5590-aaa8-43d6-a0b2-ffbaa7bc7c58",
   "metadata": {},
   "outputs": [],
   "source": [
    "alter_geschlecht_interesse.describe()"
   ]
  },
  {
   "cell_type": "markdown",
   "id": "44698103-2aae-4ce3-9b46-9efe680c4b82",
   "metadata": {},
   "source": [
    "**Deutlich geringere Anzahl an ID-Überschneidungen 381109 / 508146 (approx. 75%)!**"
   ]
  },
  {
   "cell_type": "code",
   "execution_count": null,
   "id": "f225ff10-00be-4a8b-adbc-ec950cffee27",
   "metadata": {},
   "outputs": [],
   "source": [
    "df = pd.merge(alter_geschlecht_interesse, rest, on=\"id\", how=\"inner\").reset_index(drop=True)\n",
    "df.set_index(\"id\", inplace=True)\n",
    "df.sort_index(inplace=True)\n",
    "df.head()"
   ]
  },
  {
   "cell_type": "code",
   "execution_count": null,
   "id": "3a5b61a0-3488-4d19-8fb7-3764734110e3",
   "metadata": {
    "scrolled": true
   },
   "outputs": [],
   "source": [
    "df_info = create_info_table(df)\n",
    "display(df_info)\n",
    "print_unique_values2(df, max_lines_to_print=100)"
   ]
  },
  {
   "cell_type": "markdown",
   "id": "007f21ca-7f3d-4ba0-b673-6e64d2a278eb",
   "metadata": {},
   "source": [
    "## Plotte Histogramme"
   ]
  },
  {
   "cell_type": "markdown",
   "id": "eb6ad41e-d674-43a3-ba7c-77576d14a88f",
   "metadata": {},
   "source": [
    "### Interesse"
   ]
  },
  {
   "cell_type": "code",
   "execution_count": null,
   "id": "b3575fcc-133d-43c3-8b1f-7f182564720f",
   "metadata": {},
   "outputs": [],
   "source": [
    "plot_histogram(df, \"Interesse\", df_info.loc[\"Interesse\", \"nunique\"], 1)"
   ]
  },
  {
   "cell_type": "markdown",
   "id": "3040c4cf-1bae-4766-b698-1921c0431d6d",
   "metadata": {},
   "source": [
    "### Geschlecht"
   ]
  },
  {
   "cell_type": "code",
   "execution_count": null,
   "id": "2d8eed78-4abf-457b-ad1f-b53ccfe353c8",
   "metadata": {},
   "outputs": [],
   "source": [
    "plot_histogram(df, \"Geschlecht\", df_info.loc[\"Geschlecht\", \"nunique\"], 1)"
   ]
  },
  {
   "cell_type": "markdown",
   "id": "19baf3ae-3906-436d-b5f4-7c7fb2e34846",
   "metadata": {},
   "source": [
    "### Alter"
   ]
  },
  {
   "cell_type": "code",
   "execution_count": null,
   "id": "1a381ddb-bfac-4db0-8e59-06466230657d",
   "metadata": {},
   "outputs": [],
   "source": [
    "plot_histogram(df, \"Alter\", df_info.loc[\"Alter\", \"nunique\"], 5)"
   ]
  },
  {
   "cell_type": "markdown",
   "id": "eca95b5d-4bb7-407b-a728-02a7147b2c33",
   "metadata": {},
   "source": [
    "### Fahrerlaubnis"
   ]
  },
  {
   "cell_type": "code",
   "execution_count": null,
   "id": "cef52137-8901-4436-95f7-f51e693a4ec3",
   "metadata": {},
   "outputs": [],
   "source": [
    "plot_histogram(df, \"Fahrerlaubnis\", df_info.loc[\"Fahrerlaubnis\", \"nunique\"], 1)"
   ]
  },
  {
   "cell_type": "markdown",
   "id": "76164d47-d9f8-4097-a216-ee3a8351c672",
   "metadata": {},
   "source": [
    "### Kundentreue"
   ]
  },
  {
   "cell_type": "code",
   "execution_count": null,
   "id": "d7cb8bad-89e7-4b1b-bb29-81cf36c08dd3",
   "metadata": {},
   "outputs": [],
   "source": [
    "plot_histogram(df, \"Kundentreue\", df_info.loc[\"Kundentreue\", \"nunique\"], 20)"
   ]
  },
  {
   "cell_type": "markdown",
   "id": "2c7fb68a-6407-4d55-ac7e-9210fc2b26b0",
   "metadata": {},
   "source": [
    "### Vertriebskanal"
   ]
  },
  {
   "cell_type": "code",
   "execution_count": null,
   "id": "c21f3504-5bea-4bd3-9da6-7e4e05a26276",
   "metadata": {},
   "outputs": [],
   "source": [
    "plot_histogram(df, \"Vertriebskanal\", df_info.loc[\"Vertriebskanal\", \"nunique\"], 10)"
   ]
  },
  {
   "cell_type": "markdown",
   "id": "e1e0e002-0ea5-43a3-9e1c-9a3245b170eb",
   "metadata": {},
   "source": [
    "### Jahresbeitrag"
   ]
  },
  {
   "cell_type": "code",
   "execution_count": null,
   "id": "b88a38ce-cf3e-4a8a-b563-f9ebdb4bcbb1",
   "metadata": {},
   "outputs": [],
   "source": [
    "plot_histogram2(df, \"Jahresbeitrag\", 500)"
   ]
  },
  {
   "cell_type": "code",
   "execution_count": null,
   "id": "ff1e1014-bf08-4b03-9f32-a105aacff8d3",
   "metadata": {},
   "outputs": [],
   "source": [
    "print(f\"{int((df[\"Jahresbeitrag\"]<=2630).sum())} Kunden zahlen höchstens 2630 € Jahresbeitrag (Peak in Histogramm)\")"
   ]
  },
  {
   "cell_type": "markdown",
   "id": "f757a21c-1c06-4923-a065-ce374621d541",
   "metadata": {},
   "source": [
    "### Vorschaden"
   ]
  },
  {
   "cell_type": "code",
   "execution_count": null,
   "id": "a191aee9-ebd8-46d8-9643-f849cff65c9d",
   "metadata": {},
   "outputs": [],
   "source": [
    "plot_histogram(df, \"Vorschaden\", df_info.loc[\"Vorschaden\", \"nunique\"], 1)"
   ]
  },
  {
   "cell_type": "markdown",
   "id": "3835c759-9e8f-4ab3-a4db-2e6d36596b4d",
   "metadata": {},
   "source": [
    "### Alter_Fzg"
   ]
  },
  {
   "cell_type": "code",
   "execution_count": null,
   "id": "4109e25e-1a33-474f-9252-065577707169",
   "metadata": {},
   "outputs": [],
   "source": [
    "plot_histogram(df, \"Alter_Fzg\", df_info.loc[\"Alter_Fzg\", \"nunique\"], 1)"
   ]
  },
  {
   "cell_type": "markdown",
   "id": "2f0ff694-a41a-443b-b21e-2d283f5f2b28",
   "metadata": {},
   "source": [
    "### Vorversicherung"
   ]
  },
  {
   "cell_type": "code",
   "execution_count": null,
   "id": "5f5f0733-3981-40a7-8ac2-af3a6eaf3427",
   "metadata": {},
   "outputs": [],
   "source": [
    "plot_histogram(df, \"Vorversicherung\", df_info.loc[\"Vorversicherung\", \"nunique\"], 1)"
   ]
  },
  {
   "cell_type": "markdown",
   "id": "10d13273-f149-42a2-9be8-67391112e75e",
   "metadata": {},
   "source": [
    "### Regional_Code"
   ]
  },
  {
   "cell_type": "code",
   "execution_count": null,
   "id": "7074b5bf-3c83-488c-9f7a-2bf2732ab0ed",
   "metadata": {},
   "outputs": [],
   "source": [
    "plot_histogram(df, \"Regional_Code\", df_info.loc[\"Regional_Code\", \"nunique\"], 5)"
   ]
  },
  {
   "cell_type": "markdown",
   "id": "93811d78-a4c0-4f5b-84de-67c2e9e19b33",
   "metadata": {},
   "source": [
    "## Erste Erkenntnisse zu Daten"
   ]
  },
  {
   "cell_type": "markdown",
   "id": "072bdb04-cf27-4ac3-9207-d1103241038f",
   "metadata": {},
   "source": [
    "| Merkmal        | Beschreibung  / Erkenntnisse                                                                                                                                       |\n",
    "|----------------|--------------------------------------------------------------------------------------------------------------------------------------------------------------------|\n",
    "| Interesse      | Binär, Zielvariable sehr unbalanciert, lediglich 12% der Kunden haben Interesse bekundet.                                                                          |\n",
    "| Geschlecht     | Binär, halbwegs ausgeglichen mit einem kleinen Überschuss männlicher Kunden                                                                                        |\n",
    "| Alter          | Diskret / quasi-kontinuierlich mit zwei Peaks - einem großen bei jungen Kunden und einem weiteren im mittleren Alter, sowie einem breiteren Verlauf für hohes Alter|\n",
    "| Fahrerlaubnis  | Binär, Histogramm sehr einseitig (lediglich 1049 unter 508146 haben keine Fahrerlaubnis).                                                                          |\n",
    "| Kundentreue    | Viele Werte (290), Histogramm sehr uniform.                                                                                                                        |\n",
    "| Vertriebskanal | Konvertiere nach int, Histogramm sehr sparse (evtl. 10-20 Kanäle dominant).                                                                                        |\n",
    "| Jahresbeitrag  | Hoher Peak bei 2630€ (64877 von 381109 Kunden), Schiefe Gauss-Verteilung oder Gamma-Verteilung bei höheren Jahresbeiträgen.                                        |\n",
    "| Vorschaden     | Binär, quasi balanciert / nahezu gleiche Häufigkeiten.                                                                                                             |\n",
    "| Alter_Fzg      | Ternär, meistens zwischen 1-2 Jahren, dann <1 Jahr, die wenigsten älter als 2 Jahre.                                                                               |\n",
    "| Vorversicherung| Binär, nicht ganz balanciert; es haben mehr Kunden keine Vorversicherung.                                                                                          |\n",
    "| Regional_Code  | Konvertiere nach int, Histogramm sehr sparse (evtl. 5-10 Kanäle dominant).                                                                                         |"
   ]
  },
  {
   "cell_type": "markdown",
   "id": "d3c74d09-d036-4821-82e9-3594a1c0ad85",
   "metadata": {},
   "source": [
    "# Feature Engineering"
   ]
  },
  {
   "cell_type": "markdown",
   "id": "23b209bb-7578-45ca-b2cd-37106a6b63c2",
   "metadata": {},
   "source": [
    "## Data Preprocessing"
   ]
  },
  {
   "cell_type": "markdown",
   "id": "189d59cf-f71a-4d05-bd5b-a7eae7e9da5b",
   "metadata": {},
   "source": [
    "### Data-Type-Casting"
   ]
  },
  {
   "cell_type": "markdown",
   "id": "e1bcae83-71f1-4ef1-8653-6cbe258f6dec",
   "metadata": {},
   "source": [
    "Konvertiere Daten in `int64`- (diskret) bzw. `float64`- (kontinuierlich) Datentypen."
   ]
  },
  {
   "cell_type": "code",
   "execution_count": null,
   "id": "26ac422a-44f0-4caf-9088-a740f81e1d14",
   "metadata": {},
   "outputs": [],
   "source": [
    "df_processed = df.copy()"
   ]
  },
  {
   "cell_type": "code",
   "execution_count": null,
   "id": "a2cb6a04-2168-4a4e-93ee-0d0b459dd50a",
   "metadata": {},
   "outputs": [],
   "source": [
    "df_processed[[\"Vertriebskanal\", \"Regional_Code\", \"Interesse\"]] = df_processed[[\"Vertriebskanal\", \"Regional_Code\", \"Interesse\"]].astype(\"int\")"
   ]
  },
  {
   "cell_type": "code",
   "execution_count": null,
   "id": "9477cb4f-b595-4912-9ba2-b1540f16a398",
   "metadata": {},
   "outputs": [],
   "source": [
    "geschlechter_dict = {\"Male\": 0, \"Female\": 1}\n",
    "df_processed.loc[:, \"Geschlecht\"] = df_processed[\"Geschlecht\"].replace(geschlechter_dict)\n",
    "df_processed[\"Geschlecht\"] = df_processed[\"Geschlecht\"].astype(\"int\")"
   ]
  },
  {
   "cell_type": "code",
   "execution_count": null,
   "id": "d993e4de-d555-40c5-91a9-34ff3a572c62",
   "metadata": {},
   "outputs": [],
   "source": [
    "alter_dict = {'< 1 Year': 0, '1-2 Year': 1, '> 2 Years': 2}\n",
    "df_processed.loc[:, \"Alter_Fzg\"] = df_processed[\"Alter_Fzg\"].replace(alter_dict)\n",
    "df_processed[\"Alter_Fzg\"] = df_processed[\"Alter_Fzg\"].astype(\"int\")"
   ]
  },
  {
   "cell_type": "code",
   "execution_count": null,
   "id": "0b0f44b5-0cb5-4bb8-b9e8-e2c3d3f7e85e",
   "metadata": {},
   "outputs": [],
   "source": [
    "vorschaden_dict = {'No': 0, 'Yes': 1}\n",
    "df_processed.loc[:, \"Vorschaden\"] = df_processed[\"Vorschaden\"].replace(vorschaden_dict)\n",
    "df_processed[\"Vorschaden\"] = df_processed[\"Vorschaden\"].astype(\"int\")"
   ]
  },
  {
   "cell_type": "code",
   "execution_count": null,
   "id": "7e087f8d-8d04-4d95-aae7-e4b9f5230fa7",
   "metadata": {},
   "outputs": [],
   "source": [
    "df_processed.dtypes"
   ]
  },
  {
   "cell_type": "markdown",
   "id": "284bfd7f-8bc0-4556-afbf-66ee148dd837",
   "metadata": {},
   "source": [
    "## Binning"
   ]
  },
  {
   "cell_type": "markdown",
   "id": "8ccd7a11-6518-4c61-9d03-8e881a7cd7f4",
   "metadata": {},
   "source": [
    "**Bereite Daten für eine kausale Analyse vor, indem alle Daten gebinnt werden, um sie kompatibel mit Causal-Discovery-Methoden zu machen.**"
   ]
  },
  {
   "cell_type": "markdown",
   "id": "ff4c4b70-a7b6-45c0-bb48-73fba78f3aa4",
   "metadata": {},
   "source": [
    "### Kategoriale bzw. ordinale Variablen"
   ]
  },
  {
   "cell_type": "markdown",
   "id": "56123db8-45c6-4e5a-b15c-26cc823a2a0f",
   "metadata": {},
   "source": [
    "#### Alter"
   ]
  },
  {
   "cell_type": "code",
   "execution_count": null,
   "id": "b2f3f6fa-d877-41a5-968f-e4fc7cbd1c3a",
   "metadata": {},
   "outputs": [],
   "source": [
    "bins_alter = [20, 30, 40, 50, 60, 100]\n",
    "labels_alter = [0, 1, 2, 3, 4]\n",
    "df_processed[\"Alter_cat\"] = pd.cut(df_processed[\"Alter\"], bins=bins_alter, labels=labels_alter, right=False)"
   ]
  },
  {
   "cell_type": "code",
   "execution_count": null,
   "id": "e350c3ff-4878-4e66-9d17-50cf88bc2848",
   "metadata": {
    "scrolled": true
   },
   "outputs": [],
   "source": [
    "df_processed[[\"Alter_cat\", \"Alter\"]].value_counts().sort_index(ascending=True)"
   ]
  },
  {
   "cell_type": "code",
   "execution_count": null,
   "id": "1b875b45-2c61-4438-977e-b24f42ef73e6",
   "metadata": {},
   "outputs": [],
   "source": [
    "plot_histogram(df_processed, \"Alter_cat\", 5, 1)"
   ]
  },
  {
   "cell_type": "markdown",
   "id": "488756ca-c9ea-4fd7-8ec7-aaeae5d32290",
   "metadata": {},
   "source": [
    "#### Regional_Code"
   ]
  },
  {
   "cell_type": "code",
   "execution_count": null,
   "id": "f41188a3-7443-4d67-9718-b7f6baab93ab",
   "metadata": {},
   "outputs": [],
   "source": [
    "top_k_reg_code = 4\n",
    "top_counts_reg_code = df_processed[\"Regional_Code\"].value_counts()\n",
    "top_values_reg_code = top_counts_reg_code.nlargest(top_k_reg_code).index\n",
    "top_values_reg_code"
   ]
  },
  {
   "cell_type": "code",
   "execution_count": null,
   "id": "aface132-050f-4900-8f10-1483362b06e8",
   "metadata": {},
   "outputs": [],
   "source": [
    "df_processed[\"Regional_Code_cat\"] = df_processed[\"Regional_Code\"].apply(lambda x: x if x in top_values_reg_code else -1)"
   ]
  },
  {
   "cell_type": "code",
   "execution_count": null,
   "id": "c18cd4c0-0893-4923-98ea-4da0c51ab5e7",
   "metadata": {
    "scrolled": true
   },
   "outputs": [],
   "source": [
    "df_processed[[\"Regional_Code_cat\", \"Regional_Code\"]].value_counts().sort_values(ascending=False)"
   ]
  },
  {
   "cell_type": "code",
   "execution_count": null,
   "id": "1c3b864c-2d8e-4d25-9ea1-77687b8988dc",
   "metadata": {},
   "outputs": [],
   "source": [
    "plot_histogram(df_processed, \"Regional_Code_cat\", 5, 1)"
   ]
  },
  {
   "cell_type": "markdown",
   "id": "134cc277-657c-4e2f-af49-9bbecf636510",
   "metadata": {},
   "source": [
    "#### Vertriebskanal"
   ]
  },
  {
   "cell_type": "code",
   "execution_count": null,
   "id": "cf800e61-ff23-473b-a563-b4165309c88c",
   "metadata": {},
   "outputs": [],
   "source": [
    "top_k_kanal = 4\n",
    "top_counts_kanal = df_processed[\"Vertriebskanal\"].value_counts()\n",
    "top_values_kanal = top_counts_kanal.nlargest(top_k_kanal).index\n",
    "top_values_kanal"
   ]
  },
  {
   "cell_type": "code",
   "execution_count": null,
   "id": "f8f38356-a0bf-4be6-928c-8d47aee373ed",
   "metadata": {},
   "outputs": [],
   "source": [
    "df_processed[\"Vertriebskanal_cat\"] = df_processed[\"Vertriebskanal\"].apply(lambda x: x if x in top_values_kanal else -1)"
   ]
  },
  {
   "cell_type": "code",
   "execution_count": null,
   "id": "9a9497cb-7a77-4514-9c74-09fa4ec9e107",
   "metadata": {
    "scrolled": true
   },
   "outputs": [],
   "source": [
    "df_processed[[\"Vertriebskanal_cat\", \"Vertriebskanal\"]].value_counts().sort_values(ascending=False)"
   ]
  },
  {
   "cell_type": "code",
   "execution_count": null,
   "id": "4f1eba7d-57c5-4356-a7e8-cee2708a4170",
   "metadata": {},
   "outputs": [],
   "source": [
    "plot_histogram(df_processed, \"Vertriebskanal_cat\", 5, 1)"
   ]
  },
  {
   "cell_type": "markdown",
   "id": "7db7bc3e-e158-4413-9c16-4ad75478f168",
   "metadata": {},
   "source": [
    "#### Kundentreue"
   ]
  },
  {
   "cell_type": "code",
   "execution_count": null,
   "id": "f58dc6d7-061d-445d-a089-961775f8f62c",
   "metadata": {},
   "outputs": [],
   "source": [
    "bins_treue = [0, 100, 200, 300]\n",
    "labels_treue = [0, 1, 2]\n",
    "df_processed[\"Kundentreue_cat\"] = pd.cut(df_processed[\"Kundentreue\"], bins=bins_treue, labels=labels_treue, right=False)"
   ]
  },
  {
   "cell_type": "code",
   "execution_count": null,
   "id": "ef2e2c01-68e2-4ecc-aa59-a1b59562552e",
   "metadata": {
    "scrolled": true
   },
   "outputs": [],
   "source": [
    "df_processed[[\"Kundentreue_cat\", \"Kundentreue\"]].value_counts().sort_index(ascending=True)"
   ]
  },
  {
   "cell_type": "code",
   "execution_count": null,
   "id": "ad1e62e1-bf1c-4164-b6f5-65718b38d77d",
   "metadata": {},
   "outputs": [],
   "source": [
    "plot_histogram(df_processed, \"Kundentreue_cat\", 3, 1)"
   ]
  },
  {
   "cell_type": "markdown",
   "id": "67b59b1b-f479-44b4-b51f-96faf6ce4044",
   "metadata": {},
   "source": [
    "### Kontinuierliche Variablen"
   ]
  },
  {
   "cell_type": "markdown",
   "id": "9aaadfa4-b9a6-47a7-9b01-497f171d3427",
   "metadata": {},
   "source": [
    "#### Jahresbeitrag"
   ]
  },
  {
   "cell_type": "code",
   "execution_count": null,
   "id": "9928e936-756a-4aab-810d-ecced839dc95",
   "metadata": {},
   "outputs": [],
   "source": [
    "# Definiere den Schwellwert zwischen Peak (2630€) und Gauss- bzw. Gamma-Verteilung oberhalb dieses Schwellwerts\n",
    "S = 2650\n",
    "\n",
    "# Peak-Daten als eigene Kategorie markieren\n",
    "from_peak = df_processed[\"Jahresbeitrag\"] < S\n",
    "df_processed[\"Jahresbeitrag_cat\"] = np.where(from_peak, 0, 6)\n",
    "\n",
    "# Binning für Werte oberhalb des Schwellwerts mit 4 Quantilen\n",
    "from_gaussian = df_processed[\"Jahresbeitrag\"] >= S\n",
    "quantiles_beitrag, bins_beitrag = pd.qcut(df_processed.loc[from_gaussian, \"Jahresbeitrag\"], q=4, labels=[1, 2, 3, 4], retbins=True)\n",
    "bins_beitrag_thresholds = [S] + bins_beitrag.tolist()\n",
    "bins_beitrag = len(bins_beitrag_thresholds)-1\n",
    "print(bins_beitrag_thresholds)\n",
    "df_processed.loc[from_gaussian, \"Jahresbeitrag_cat\"] = quantiles_beitrag"
   ]
  },
  {
   "cell_type": "code",
   "execution_count": null,
   "id": "83b3daa9-6ec4-441b-b8ce-10ed2cef92e4",
   "metadata": {},
   "outputs": [],
   "source": [
    "df_processed[[\"Jahresbeitrag\", \"Jahresbeitrag_cat\"]].head()"
   ]
  },
  {
   "cell_type": "code",
   "execution_count": null,
   "id": "ae7fad3c-9451-43b6-9c32-abc02c72c051",
   "metadata": {},
   "outputs": [],
   "source": [
    "plot_histogram(df_processed, \"Jahresbeitrag_cat\", 5, 1)"
   ]
  },
  {
   "cell_type": "markdown",
   "id": "9520f463-bd80-4f15-8d4c-4e8c0b86e9c1",
   "metadata": {},
   "source": [
    "# Statistische Zusammenhänge zwischen Merkmalen und Zielvariablen \"Interesse\""
   ]
  },
  {
   "cell_type": "markdown",
   "id": "c5511605-918a-4adb-9c54-14b355832f28",
   "metadata": {},
   "source": [
    "## Hilfsfunktionen (Plotting)"
   ]
  },
  {
   "cell_type": "code",
   "execution_count": null,
   "id": "d2ebadc4-510e-48be-9572-20ef0ff7714a",
   "metadata": {},
   "outputs": [],
   "source": [
    "def plot_feature_dependencies(df, x, y, hue=None, figsize=(6.5, 6.5)):\n",
    "    f, ax = plt.subplots(figsize=figsize)\n",
    "    sns.despine(f, left=True, bottom=True)\n",
    "    sns.scatterplot(data=df, x=x, y=y, hue=hue, sizes=(1, 6), linewidth=0, alpha=0.5, ax=ax)\n",
    "    plt.tight_layout(pad=1.4)\n",
    "    plt.legend(loc=\"best\")\n",
    "    plt.show()"
   ]
  },
  {
   "cell_type": "code",
   "execution_count": null,
   "id": "0c24f7c5-59fe-44fa-b24f-42086280fc3b",
   "metadata": {},
   "outputs": [],
   "source": [
    "def boxplot(df, x, y, hue=None, figsize=(6.5, 6.5)):\n",
    "    f, ax = plt.subplots(figsize=figsize)\n",
    "    sns.boxplot(data=df, x=x, y=y, hue=hue, ax=ax, orient=\"h\")\n",
    "    sns.despine(offset=10, trim=True)\n",
    "    plt.tight_layout(pad=1.4)\n",
    "    plt.legend(loc=\"best\")\n",
    "    plt.show()"
   ]
  },
  {
   "cell_type": "code",
   "execution_count": null,
   "id": "a7992afb-af05-454a-8080-06f8643f0370",
   "metadata": {},
   "outputs": [],
   "source": [
    "def violinplot(df, x, y, hue=None, figsize=(6.5, 6.5)):\n",
    "    f, ax = plt.subplots(figsize=figsize)\n",
    "    sns.violinplot(data=df, x=x, y=y, hue=hue, split=True, inner=\"quart\", fill=True, alpha=0.5, ax=ax, orient=\"h\")\n",
    "    sns.despine(offset=10, trim=True)\n",
    "    plt.tight_layout(pad=1.4)\n",
    "    plt.xlabel(f\"{x}\")\n",
    "    plt.ylabel(\"Counts\")\n",
    "    plt.title(f\"{x}-Distribution\")\n",
    "    plt.tight_layout(pad=1.4)\n",
    "    plt.grid(None)\n",
    "    plt.show()"
   ]
  },
  {
   "cell_type": "markdown",
   "id": "48fce55b-0773-415c-a3ae-240409f4ecad",
   "metadata": {},
   "source": [
    "## Conditional Probability Plots | P(Interesse|x)"
   ]
  },
  {
   "cell_type": "markdown",
   "id": "cc71ab1b-b646-4d06-a229-b58a68adb4cb",
   "metadata": {},
   "source": [
    "### P(Interesse|Geschlecht)"
   ]
  },
  {
   "cell_type": "code",
   "execution_count": null,
   "id": "b1f7c638-9cdc-4272-9def-731d97a9b80a",
   "metadata": {},
   "outputs": [],
   "source": [
    "pd.crosstab(df_processed[\"Interesse\"], df_processed[\"Geschlecht\"])"
   ]
  },
  {
   "cell_type": "code",
   "execution_count": null,
   "id": "df4cad99-206b-4d08-ac0d-0377bad5dd94",
   "metadata": {},
   "outputs": [],
   "source": [
    "plot_histogram3(df=df_processed, x=\"Geschlecht\", hue=\"Interesse\", alpha=0.5, multiple=\"fill\", stat=\"density\", common_norm=True)"
   ]
  },
  {
   "cell_type": "markdown",
   "id": "babd71f0-b5a5-4ec4-a89a-7212178707da",
   "metadata": {},
   "source": [
    "### P(Interesse|Vorversicherung)"
   ]
  },
  {
   "cell_type": "code",
   "execution_count": null,
   "id": "866818cd-808d-42ee-b8c9-bf28ae9a2f41",
   "metadata": {},
   "outputs": [],
   "source": [
    "pd.crosstab(df_processed[\"Interesse\"], df_processed[\"Vorversicherung\"])"
   ]
  },
  {
   "cell_type": "code",
   "execution_count": null,
   "id": "cbba2d4c-f3d8-437d-8e77-2974272dfec7",
   "metadata": {},
   "outputs": [],
   "source": [
    "plot_histogram3(df=df_processed, x=\"Vorversicherung\", hue=\"Interesse\", alpha=0.5, multiple=\"fill\", stat=\"density\", common_norm=True)"
   ]
  },
  {
   "cell_type": "markdown",
   "id": "02957199-e944-4943-8905-d8398ce925cb",
   "metadata": {},
   "source": [
    "### P(Interesse|Alter_cat)"
   ]
  },
  {
   "cell_type": "code",
   "execution_count": null,
   "id": "5f0bda50-203f-4743-a011-10c1bebfe136",
   "metadata": {},
   "outputs": [],
   "source": [
    "pd.crosstab(df_processed[\"Interesse\"], df_processed[\"Alter_cat\"])"
   ]
  },
  {
   "cell_type": "code",
   "execution_count": null,
   "id": "18564962-584e-4340-be81-9fd0a1e8b723",
   "metadata": {},
   "outputs": [],
   "source": [
    "plot_histogram3(df=df_processed, x=\"Alter_cat\", hue=\"Interesse\", bins=df_processed[\"Alter_cat\"].nunique(), alpha=0.5, multiple=\"fill\", stat=\"density\", common_norm=True)"
   ]
  },
  {
   "cell_type": "code",
   "execution_count": null,
   "id": "ed37ffc6-4c94-4718-a6ce-7ccb4957d4b7",
   "metadata": {},
   "outputs": [],
   "source": [
    "plot_histogram3(df=df_processed, x=\"Alter\", hue=\"Interesse\", bins=df_processed[\"Alter\"].nunique(), alpha=0.5, multiple=\"fill\", stat=\"density\", common_norm=True)"
   ]
  },
  {
   "cell_type": "markdown",
   "id": "1bed2a93-76f4-454e-ba2f-2f81a42b5222",
   "metadata": {},
   "source": [
    "### P(Interesse|Alter_Fzg)"
   ]
  },
  {
   "cell_type": "code",
   "execution_count": null,
   "id": "75fd42af-801a-48e5-8bb7-eb239848d11a",
   "metadata": {},
   "outputs": [],
   "source": [
    "pd.crosstab(df_processed[\"Interesse\"], df_processed[\"Alter_Fzg\"])"
   ]
  },
  {
   "cell_type": "code",
   "execution_count": null,
   "id": "d4f9d61d-bbe9-4d57-be79-86a5724d9ab7",
   "metadata": {},
   "outputs": [],
   "source": [
    "plot_histogram3(df=df_processed, x=\"Alter_Fzg\", hue=\"Interesse\", alpha=0.5, multiple=\"fill\", stat=\"density\", common_norm=True)"
   ]
  },
  {
   "cell_type": "markdown",
   "id": "b7d12767-36f5-46b4-94be-416a67a89dce",
   "metadata": {},
   "source": [
    "### P(Interesse|Vorschaden)"
   ]
  },
  {
   "cell_type": "code",
   "execution_count": null,
   "id": "6e0c5502-b55a-47e7-9d45-774089a61b49",
   "metadata": {},
   "outputs": [],
   "source": [
    "pd.crosstab(df_processed[\"Interesse\"], df_processed[\"Vorschaden\"])"
   ]
  },
  {
   "cell_type": "code",
   "execution_count": null,
   "id": "9fe16f7f-83f8-450b-b6ce-b3de183ec45d",
   "metadata": {},
   "outputs": [],
   "source": [
    "plot_histogram3(df=df_processed, x=\"Vorschaden\", hue=\"Interesse\", alpha=0.5, multiple=\"fill\", stat=\"density\", common_norm=True)"
   ]
  },
  {
   "cell_type": "markdown",
   "id": "3f8eba8b-8364-46f7-8ff8-d6f82ca43a09",
   "metadata": {},
   "source": [
    "### P(Interesse|Fahrerlaubnis)"
   ]
  },
  {
   "cell_type": "code",
   "execution_count": null,
   "id": "f9739d36-2b3d-4037-9f0c-9b3549d565bd",
   "metadata": {},
   "outputs": [],
   "source": [
    "pd.crosstab(df_processed[\"Interesse\"], df_processed[\"Fahrerlaubnis\"])"
   ]
  },
  {
   "cell_type": "code",
   "execution_count": null,
   "id": "bd1f5cca-23b2-4659-a36b-5edf64209a24",
   "metadata": {},
   "outputs": [],
   "source": [
    "plot_histogram3(df=df_processed, x=\"Fahrerlaubnis\", hue=\"Interesse\", alpha=0.5, multiple=\"fill\", stat=\"density\", common_norm=True)"
   ]
  },
  {
   "cell_type": "markdown",
   "id": "3270a47f-0d75-4d4d-a5e8-9cdae39f5240",
   "metadata": {},
   "source": [
    "### P(Interesse|Regional_Code_cat)"
   ]
  },
  {
   "cell_type": "code",
   "execution_count": null,
   "id": "891592f2-88b4-4d82-886c-9f09b7219d3f",
   "metadata": {},
   "outputs": [],
   "source": [
    "pd.crosstab(df_processed[\"Interesse\"], df_processed[\"Regional_Code_cat\"])"
   ]
  },
  {
   "cell_type": "code",
   "execution_count": null,
   "id": "eb2a4e57-004d-4568-8ed2-f579352bbc58",
   "metadata": {},
   "outputs": [],
   "source": [
    "bins_reg_code = [-1] + sorted(top_values_reg_code.tolist())\n",
    "print(bins_reg_code)\n",
    "plot_histogram3(df=df_processed, x=\"Regional_Code_cat\", hue=\"Interesse\", bins=bins_reg_code, binrange=[min(bins_reg_code), max(bins_reg_code)], alpha=0.5, multiple=\"fill\", stat=\"density\",  common_norm=True)"
   ]
  },
  {
   "cell_type": "code",
   "execution_count": null,
   "id": "4e197376-2f8e-4ad1-8f8b-09893089c757",
   "metadata": {},
   "outputs": [],
   "source": [
    "plot_histogram3(df=df_processed, x=\"Regional_Code\", hue=\"Interesse\", bins=df_processed[\"Regional_Code\"].nunique(), alpha=0.5, multiple=\"fill\", stat=\"density\",  common_norm=True)"
   ]
  },
  {
   "cell_type": "markdown",
   "id": "e215e33c-e7a7-4dec-9053-20f252f86aca",
   "metadata": {},
   "source": [
    "### P(Interesse|Kundentreue_cat)"
   ]
  },
  {
   "cell_type": "code",
   "execution_count": null,
   "id": "74eec373-4cdf-49a5-88ea-127f7cef5791",
   "metadata": {},
   "outputs": [],
   "source": [
    "pd.crosstab(df_processed[\"Interesse\"], df_processed[\"Kundentreue_cat\"])"
   ]
  },
  {
   "cell_type": "code",
   "execution_count": null,
   "id": "d8fd8402-3047-4a8f-aaae-6fcf113b724e",
   "metadata": {},
   "outputs": [],
   "source": [
    "plot_histogram3(df=df_processed, x=\"Kundentreue_cat\", hue=\"Interesse\", bins=df_processed[\"Kundentreue_cat\"].nunique(), alpha=0.5, multiple=\"fill\", stat=\"density\",  common_norm=True)"
   ]
  },
  {
   "cell_type": "code",
   "execution_count": null,
   "id": "499fd0c6-e2f0-40f9-81f2-bd362f3ffa24",
   "metadata": {},
   "outputs": [],
   "source": [
    "plot_histogram3(df=df_processed, x=\"Kundentreue\", hue=\"Interesse\", bins=df_processed[\"Kundentreue\"].nunique(), alpha=0.5, multiple=\"fill\", stat=\"density\",  common_norm=True)"
   ]
  },
  {
   "cell_type": "markdown",
   "id": "5e834bfc-cc13-4205-a784-ff6d64d67fd0",
   "metadata": {},
   "source": [
    "### P(Interesse|Jahresbeitrag_cat)"
   ]
  },
  {
   "cell_type": "code",
   "execution_count": null,
   "id": "b067c744-66e4-4bb8-99d2-e29ebdf95f98",
   "metadata": {},
   "outputs": [],
   "source": [
    "pd.crosstab(df_processed[\"Interesse\"], df_processed[\"Jahresbeitrag_cat\"])"
   ]
  },
  {
   "cell_type": "code",
   "execution_count": null,
   "id": "62282469-9dc2-4496-a787-bc4e4c2d65dd",
   "metadata": {},
   "outputs": [],
   "source": [
    "plot_histogram3(df=df_processed, x=\"Jahresbeitrag_cat\", hue=\"Interesse\", bins=bins_beitrag, alpha=0.5, multiple=\"fill\", stat=\"density\",  common_norm=True)"
   ]
  },
  {
   "cell_type": "code",
   "execution_count": null,
   "id": "e7132e2e-6336-47bb-88da-86a54cea6372",
   "metadata": {},
   "outputs": [],
   "source": [
    "plot_histogram3(df=df_processed, x=\"Jahresbeitrag\", hue=\"Interesse\", bins=100, alpha=0.5, multiple=\"fill\", stat=\"density\", common_norm=True)"
   ]
  },
  {
   "cell_type": "code",
   "execution_count": null,
   "id": "090c6b3d-2594-482c-b54d-711aa704e22d",
   "metadata": {},
   "outputs": [],
   "source": [
    "violinplot(df_processed, y=\"Interesse\", x=\"Jahresbeitrag\", hue=None)"
   ]
  },
  {
   "cell_type": "markdown",
   "id": "6ab51ac3-c754-4a30-bc9c-cd7b1b5e53d2",
   "metadata": {},
   "source": [
    "### P(Interesse|Vertriebskanal_cat)"
   ]
  },
  {
   "cell_type": "code",
   "execution_count": null,
   "id": "28c0ad5c-bdf5-4662-9e89-ebf719644463",
   "metadata": {},
   "outputs": [],
   "source": [
    "pd.crosstab(df_processed[\"Interesse\"], df_processed[\"Vertriebskanal_cat\"])"
   ]
  },
  {
   "cell_type": "code",
   "execution_count": null,
   "id": "93bdb997-e445-4435-8b1a-c6802755d6ae",
   "metadata": {},
   "outputs": [],
   "source": [
    "bins_kanal = [-1] + sorted(top_values_kanal.tolist())\n",
    "print(bins_kanal)\n",
    "plot_histogram3(df=df_processed, x=\"Vertriebskanal_cat\", hue=\"Interesse\", bins=bins_kanal, binrange=[min(bins_kanal), max(bins_kanal)], alpha=0.5, multiple=\"fill\", stat=\"density\",  common_norm=True)"
   ]
  },
  {
   "cell_type": "code",
   "execution_count": null,
   "id": "6e260441-3142-48b8-a7a5-9bfebe54723a",
   "metadata": {},
   "outputs": [],
   "source": [
    "plot_histogram3(df=df_processed, x=\"Vertriebskanal\", hue=\"Interesse\", bins=290, alpha=0.5, multiple=\"fill\", stat=\"density\", common_norm=True)"
   ]
  },
  {
   "cell_type": "markdown",
   "id": "b6a9d821-c961-4e44-8a0d-c0bae8494adf",
   "metadata": {},
   "source": [
    "# Causal Discovery"
   ]
  },
  {
   "cell_type": "markdown",
   "id": "a1238641-7351-48bb-acd5-1767e137ccfd",
   "metadata": {},
   "source": [
    "**In diesem Abschnitt geht es darum auszuschließen, dass eines der Merkmale einen Confounder zwischen der Zielvariablen \"Interesse\" und anderen Merkmalen darstellt.**\n",
    "\n",
    "**Dies ist wichtig, da man ansonsten Gefahr läuft aufgrund von Verzerrungen falsche Schlussfolgerungen zu ziehen.**"
   ]
  },
  {
   "cell_type": "code",
   "execution_count": null,
   "id": "25a2c51d-9a8e-41d8-82d1-d431e049965c",
   "metadata": {},
   "outputs": [],
   "source": [
    "from networkx.drawing.nx_pydot import to_pydot\n",
    "\n",
    "from causallearn.search.ConstraintBased.PC import pc\n",
    "from causallearn.utils.PCUtils.BackgroundKnowledge import BackgroundKnowledge\n",
    "from causallearn.utils.GraphUtils import GraphUtils\n",
    "from causallearn.graph.GraphNode import GraphNode"
   ]
  },
  {
   "cell_type": "code",
   "execution_count": null,
   "id": "07af0363-11c4-4c05-beeb-df2428f957bd",
   "metadata": {},
   "outputs": [],
   "source": [
    "df_pc = df_processed.copy()"
   ]
  },
  {
   "cell_type": "code",
   "execution_count": null,
   "id": "97c6fc11-d2e5-4d34-8a56-e9db92b5b86d",
   "metadata": {},
   "outputs": [],
   "source": [
    "df_pc.info()"
   ]
  },
  {
   "cell_type": "code",
   "execution_count": null,
   "id": "f767e31d-6b84-4eda-84e2-43ceda3d69a6",
   "metadata": {},
   "outputs": [],
   "source": [
    "df_pc = df_pc[[\"Geschlecht\", \"Alter_cat\", \"Regional_Code_cat\", \"Vertriebskanal_cat\", \"Kundentreue_cat\", \"Fahrerlaubnis\", \"Vorversicherung\", \"Alter_Fzg\", \"Vorschaden\", \"Jahresbeitrag_cat\", \"Interesse\"]]"
   ]
  },
  {
   "cell_type": "code",
   "execution_count": null,
   "id": "7dddb3d0-9359-4cca-9665-4c5dbd708898",
   "metadata": {},
   "outputs": [],
   "source": [
    "df_pc.info()"
   ]
  },
  {
   "cell_type": "code",
   "execution_count": null,
   "id": "f7e01f5e-45c1-4fee-91f1-2497d8eeaec5",
   "metadata": {},
   "outputs": [],
   "source": [
    "# ordinal variables\n",
    "df_pc[\"Kundentreue_cat\"] = pd.Categorical(df_pc[\"Kundentreue_cat\"], categories=labels_treue, ordered=True)\n",
    "df_pc[\"Alter_cat\"] = pd.Categorical(df_pc[\"Alter_cat\"], categories=labels_alter, ordered=True)\n",
    "df_pc[\"Alter_Fzg\"] = pd.Categorical(df_pc[\"Alter_Fzg\"], categories=[0, 1, 2], ordered=True)\n",
    "df_pc[\"Jahresbeitrag_cat\"] = pd.Categorical(df_pc[\"Jahresbeitrag_cat\"], categories=[0, 1, 2, 3, 4], ordered=True)\n",
    "\n",
    "# categorical variables\n",
    "df_pc[\"Regional_Code_cat\"] = pd.Categorical(df_pc[\"Regional_Code_cat\"], ordered=False)\n",
    "df_pc[\"Vertriebskanal_cat\"] = pd.Categorical(df_pc[\"Vertriebskanal_cat\"], ordered=False)\n",
    "df_pc[\"Geschlecht\"] = pd.Categorical(df_pc[\"Geschlecht\"], ordered=False)\n",
    "df_pc[\"Interesse\"] = pd.Categorical(df_pc[\"Interesse\"], ordered=False)\n",
    "df_pc[\"Fahrerlaubnis\"] = pd.Categorical(df_pc[\"Fahrerlaubnis\"], ordered=False)\n",
    "df_pc[\"Vorversicherung\"] = pd.Categorical(df_pc[\"Vorversicherung\"], ordered=False)\n",
    "df_pc[\"Vorschaden\"] = pd.Categorical(df_pc[\"Vorschaden\"], ordered=False)"
   ]
  },
  {
   "cell_type": "code",
   "execution_count": null,
   "id": "c8436f9b-091d-44ac-80dd-55379a7026f4",
   "metadata": {},
   "outputs": [],
   "source": [
    "df_pc.info()"
   ]
  },
  {
   "cell_type": "code",
   "execution_count": null,
   "id": "7c1082b7-6928-4639-a033-38bbd3aa2ea9",
   "metadata": {},
   "outputs": [],
   "source": [
    "df_pc.describe()"
   ]
  },
  {
   "cell_type": "markdown",
   "id": "a49cdbf1-96f6-40fa-9e7c-096589d3301f",
   "metadata": {},
   "source": [
    "**Füge Hintergrundwissen ein, indem bestimmte kausale Abhängigkeiten zwischen Variablen von vornherein ausgeschlossen werden**\n",
    "\n",
    "**Beispielannahme: Das `Alter` hat keinen Einfluss auf das `Geschlecht` und andersherum und sollen als unabhängige Variablen betrachtet werden.**"
   ]
  },
  {
   "cell_type": "code",
   "execution_count": null,
   "id": "1216e0be-586a-4652-878a-bc6d47e4f6a9",
   "metadata": {},
   "outputs": [],
   "source": [
    "background_knowledge = BackgroundKnowledge()\n",
    "# Ausschluss von Kanten: \n",
    "# z.B. Knoten1 -> Knoten2 verboten: background_knowledge.add_forbidden_by_node(GraphNode(\"Knoten1\"), GraphNode(\"Knoten2\"))\n",
    "\n",
    "# Geschlecht\n",
    "background_knowledge.add_forbidden_by_node(GraphNode(\"Alter_cat\"), GraphNode(\"Geschlecht\"))\n",
    "background_knowledge.add_forbidden_by_node(GraphNode(\"Vorschaden\"), GraphNode(\"Geschlecht\"))\n",
    "background_knowledge.add_forbidden_by_node(GraphNode(\"Regional_Code_cat\"), GraphNode(\"Geschlecht\"))\n",
    "background_knowledge.add_forbidden_by_node(GraphNode(\"Vertriebskanal_cat\"), GraphNode(\"Geschlecht\"))\n",
    "background_knowledge.add_forbidden_by_node(GraphNode(\"Jahresbeitrag_cat\"), GraphNode(\"Geschlecht\"))\n",
    "background_knowledge.add_forbidden_by_node(GraphNode(\"Kundentreue_cat\"), GraphNode(\"Geschlecht\"))\n",
    "background_knowledge.add_forbidden_by_node(GraphNode(\"Fahrerlaubnis\"), GraphNode(\"Geschlecht\"))\n",
    "background_knowledge.add_forbidden_by_node(GraphNode(\"Vorversicherung\"), GraphNode(\"Geschlecht\"))\n",
    "background_knowledge.add_forbidden_by_node(GraphNode(\"Alter_Fzg\"), GraphNode(\"Geschlecht\"))\n",
    "background_knowledge.add_forbidden_by_node(GraphNode(\"Interesse\"), GraphNode(\"Geschlecht\"))\n",
    "\n",
    "# Alter_cat\n",
    "background_knowledge.add_forbidden_by_node(GraphNode(\"Geschlecht\"), GraphNode(\"Alter_cat\"))\n",
    "background_knowledge.add_forbidden_by_node(GraphNode(\"Vorschaden\"), GraphNode(\"Alter_cat\"))\n",
    "background_knowledge.add_forbidden_by_node(GraphNode(\"Regional_Code_cat\"), GraphNode(\"Alter_cat\"))\n",
    "background_knowledge.add_forbidden_by_node(GraphNode(\"Vertriebskanal_cat\"), GraphNode(\"Alter_cat\"))\n",
    "background_knowledge.add_forbidden_by_node(GraphNode(\"Jahresbeitrag_cat\"), GraphNode(\"Alter_cat\"))\n",
    "background_knowledge.add_forbidden_by_node(GraphNode(\"Kundentreue_cat\"), GraphNode(\"Alter_cat\"))\n",
    "background_knowledge.add_forbidden_by_node(GraphNode(\"Fahrerlaubnis\"), GraphNode(\"Alter_cat\"))\n",
    "background_knowledge.add_forbidden_by_node(GraphNode(\"Vorversicherung\"), GraphNode(\"Alter_cat\"))\n",
    "background_knowledge.add_forbidden_by_node(GraphNode(\"Alter_Fzg\"), GraphNode(\"Alter_cat\"))\n",
    "background_knowledge.add_forbidden_by_node(GraphNode(\"Interesse\"), GraphNode(\"Alter_cat\"))\n",
    "\n",
    "# Alter_Fzg\n",
    "background_knowledge.add_forbidden_by_node(GraphNode(\"Geschlecht\"), GraphNode(\"Alter_Fzg\"))\n",
    "background_knowledge.add_forbidden_by_node(GraphNode(\"Vorschaden\"), GraphNode(\"Alter_Fzg\"))\n",
    "background_knowledge.add_forbidden_by_node(GraphNode(\"Regional_Code_cat\"), GraphNode(\"Alter_Fzg\"))\n",
    "background_knowledge.add_forbidden_by_node(GraphNode(\"Vertriebskanal_cat\"), GraphNode(\"Alter_Fzg\"))\n",
    "background_knowledge.add_forbidden_by_node(GraphNode(\"Jahresbeitrag_cat\"), GraphNode(\"Alter_Fzg\"))\n",
    "background_knowledge.add_forbidden_by_node(GraphNode(\"Kundentreue_cat\"), GraphNode(\"Alter_Fzg\"))\n",
    "background_knowledge.add_forbidden_by_node(GraphNode(\"Fahrerlaubnis\"), GraphNode(\"Alter_Fzg\"))\n",
    "background_knowledge.add_forbidden_by_node(GraphNode(\"Vorversicherung\"), GraphNode(\"Alter_Fzg\"))\n",
    "background_knowledge.add_forbidden_by_node(GraphNode(\"Alter_cat\"), GraphNode(\"Alter_Fzg\"))\n",
    "\n",
    "# Interesse\n",
    "background_knowledge.add_forbidden_by_node(GraphNode(\"Interesse\"), GraphNode(\"Alter_Fzg\"))\n",
    "background_knowledge.add_forbidden_by_node(GraphNode(\"Interesse\"), GraphNode(\"Geschlecht\"))\n",
    "background_knowledge.add_forbidden_by_node(GraphNode(\"Interesse\"), GraphNode(\"Vorschaden\"))\n",
    "background_knowledge.add_forbidden_by_node(GraphNode(\"Interesse\"), GraphNode(\"Regional_Code_cat\"))\n",
    "background_knowledge.add_forbidden_by_node(GraphNode(\"Interesse\"), GraphNode(\"Vertriebskanal_cat\"))\n",
    "# background_knowledge.add_forbidden_by_node(GraphNode(\"Interesse\"), GraphNode(\"Jahresbeitrag_cat\"))\n",
    "# background_knowledge.add_forbidden_by_node(GraphNode(\"Interesse\"), GraphNode(\"Kundentreue_cat\"))\n",
    "background_knowledge.add_forbidden_by_node(GraphNode(\"Interesse\"), GraphNode(\"Fahrerlaubnis\"))\n",
    "# background_knowledge.add_forbidden_by_node(GraphNode(\"Interesse\"), GraphNode(\"Vorversicherung\"))\n",
    "background_knowledge.add_forbidden_by_node(GraphNode(\"Interesse\"), GraphNode(\"Alter_cat\"))\n",
    "background_knowledge.add_forbidden_by_node(GraphNode(\"Interesse\"), GraphNode(\"Alter_Fzg\"))"
   ]
  },
  {
   "cell_type": "code",
   "execution_count": null,
   "id": "3f1a5484-9bb3-4d41-afed-56ac55f2ab55",
   "metadata": {},
   "outputs": [],
   "source": [
    "df_pc_np = df_pc.to_numpy()"
   ]
  },
  {
   "cell_type": "code",
   "execution_count": null,
   "id": "b1b9c05f-9161-43ad-8d08-d658bf5c54da",
   "metadata": {},
   "outputs": [],
   "source": [
    "column_map = {i: c for i, c in enumerate(df_pc.columns)}\n",
    "column_map"
   ]
  },
  {
   "cell_type": "code",
   "execution_count": null,
   "id": "78dd6f96-53e0-40a9-a680-dab283a1d95e",
   "metadata": {},
   "outputs": [],
   "source": [
    "# chisq-Unabhängigkeitstest, da kategoriale Variablen!\n",
    "estimated_pdag = pc(df_pc_np, alpha=0.05, indep_test=\"chisq\", stable=True, background_knowledge=background_knowledge, node_names = df_pc.columns)"
   ]
  },
  {
   "cell_type": "code",
   "execution_count": null,
   "id": "9881c525-b6d9-4433-be24-8242cac49f7f",
   "metadata": {},
   "outputs": [],
   "source": [
    "# visualization using pydot\n",
    "estimated_pdag.draw_pydot_graph()\n",
    "pyd = GraphUtils.to_pydot(estimated_pdag.G)\n",
    "# pyd.write_png('HUK_DAG_causal_learn.png')"
   ]
  },
  {
   "cell_type": "markdown",
   "id": "26ba2628-808a-4c43-be59-715f2de21729",
   "metadata": {},
   "source": [
    "**Erkenntnisse:**\n",
    "1. **`Interesse` stellt tatsächlich die Zielvariable da und hat Verbindungen zu vielen Merkmalen außer `Kundentreue` und `Fahrerlaubnis` (weitere Diskussion siehe unten)**\n",
    "2. **`Kundentreue` scheint für die Vorhersage des `Interesse`s keine Rolle zu spielen.**\n",
    "3. **Anmerkung: Es existieren mehrere potenzielle kausale Zusammenhänge zwischen Merkmalen, die nicht ausgeschlossen werden konnten.**"
   ]
  },
  {
   "cell_type": "code",
   "execution_count": null,
   "id": "7606e246-8a0e-43ca-872a-7851c5c562be",
   "metadata": {},
   "outputs": [],
   "source": [
    "estimated_pdag.to_nx_graph()"
   ]
  },
  {
   "cell_type": "code",
   "execution_count": null,
   "id": "b62156ba-85ef-47b4-bf37-6bb1941e047a",
   "metadata": {},
   "outputs": [],
   "source": [
    "G = estimated_pdag.nx_graph"
   ]
  },
  {
   "cell_type": "code",
   "execution_count": null,
   "id": "6b3caaff-7b29-4c84-b196-1dba2dd4b240",
   "metadata": {},
   "outputs": [],
   "source": [
    "G = nx.relabel_nodes(G, column_map)"
   ]
  },
  {
   "cell_type": "code",
   "execution_count": null,
   "id": "6ba9e910-ab64-4513-a768-b8ff2bf194c3",
   "metadata": {},
   "outputs": [],
   "source": [
    "list(G.nodes)"
   ]
  },
  {
   "cell_type": "code",
   "execution_count": null,
   "id": "7b29af8e-58bf-45ac-aa6d-4de676474a1f",
   "metadata": {},
   "outputs": [],
   "source": [
    "list(G.edges)"
   ]
  },
  {
   "cell_type": "markdown",
   "id": "d718fcf1-8d48-458a-ae40-dcce2c4d0a35",
   "metadata": {},
   "source": [
    "**Extrahiere die direkten (kausalen) Elternknoten von `Interesse`!**"
   ]
  },
  {
   "cell_type": "code",
   "execution_count": null,
   "id": "5c330efa-8816-46b4-902e-8e2c1bd490f7",
   "metadata": {},
   "outputs": [],
   "source": [
    "interest_parents = list(sorted(G.edges, key=lambda x: x[1]))\n",
    "interest_parents = [element[0] for element in interest_parents if element[1]==\"Interesse\"]\n",
    "interest_parents"
   ]
  },
  {
   "cell_type": "markdown",
   "id": "f9797605-4829-4419-b5de-1a5a188126e1",
   "metadata": {},
   "source": [
    "# Modell-Vergleich und Modell-Wahl"
   ]
  },
  {
   "cell_type": "markdown",
   "id": "a98129ad-68d5-4220-b4b8-c38f328128de",
   "metadata": {},
   "source": [
    "**Probiere ein möglichst einfaches und interpretierbares Modell aus. Ich sehe 5 Möglichkeiten:**\n",
    "1. Logistische Regression bzw. (Augmented) Conditional Logistic Regression (unter Annahme linearer Zusammenhänge, aber One-Hot-Encoding der kategorialen Variablen nötig)\n",
    "2. Decision Tree Classifier (unter Annahme potenziell nichtlinearer Zusammenhänge, dafür allerdings kein One-Hot-Encoding der kategorialen Variablen nötig)\n",
    "3. Random Forest Classifier (robuster, allerdings nicht einfach zu interpretieren, da es aus einem Ensemble von Entscheidungsbäumen besteht)\n",
    "4. Gradient Boosting (sehr leistungsstark, allerdings ähnlich zum Random Forest Classifier nicht leicht zu interpretieren, da es sich auch hier um einen Ensemble-Ansatz handelt)\n",
    "5. Neuronale Netze (Deep Learning) (kann hochdimensionale nichtlineare Beziehungen und versteckte Muster aufdecken, allerdings kaum interpretierbar, da BlackBox, und benötigt normalerweise sehr viele Daten).\n",
    "\n",
    "**Für einen ersten Versuch benutze ich die einfachste und interpretierbareste Möglichkeit (1) - Logistische Regression**\n",
    "\n",
    "**Wichtig: Egal, welches Modell herangezogen wird, nutze immer nur die direkten Elternknoten der Zielvariablen \"Interesse\" und keine \"Mediatoren\" bzw. \"Collider\" (siehe Kausaler Graph und Bemerkungen oben)**"
   ]
  },
  {
   "cell_type": "markdown",
   "id": "e4a71cb3-2a68-42f0-9986-a806b9ded630",
   "metadata": {},
   "source": [
    "# Modell-Building"
   ]
  },
  {
   "cell_type": "markdown",
   "id": "8dbea72d-3491-4f00-9dad-d53078a0d44b",
   "metadata": {},
   "source": [
    "## Überführe Variablen in Dummy-Variablen "
   ]
  },
  {
   "cell_type": "code",
   "execution_count": null,
   "id": "3723a7ee-cc95-4d01-bcfe-bf97d7156b48",
   "metadata": {},
   "outputs": [],
   "source": [
    "from sklearn.model_selection import train_test_split"
   ]
  },
  {
   "cell_type": "code",
   "execution_count": null,
   "id": "4629b395-4898-4b6f-8b68-eacbf1fb7abb",
   "metadata": {},
   "outputs": [],
   "source": [
    "df_pc.describe()"
   ]
  },
  {
   "cell_type": "code",
   "execution_count": null,
   "id": "6df57ac7-f2e2-4b08-9b65-fa2a48a64369",
   "metadata": {},
   "outputs": [],
   "source": [
    "df_pc.info()"
   ]
  },
  {
   "cell_type": "code",
   "execution_count": null,
   "id": "898c068e-68c3-4e2d-8947-1e88d53bb569",
   "metadata": {},
   "outputs": [],
   "source": [
    "# Füge \"Fahrerlaubnis\" als Elternknoten der Zielvariable \"Interesse\" hinzu, obwohl sie vom PC-Algorithmus aufgrund mangelnder Ereignisse nicht erkannt wurde.\n",
    "# Begründung: Die obigen Conditional Probability Plots zeigen eine Abhängigkeit der Zielvariablen \"Interesse\" von \"Fahrerlaubnis\".\n",
    "\n",
    "df_interesse_parents = df_pc[interest_parents+[\"Fahrerlaubnis\"]+[\"Interesse\"]]"
   ]
  },
  {
   "cell_type": "code",
   "execution_count": null,
   "id": "10c73113-e289-41e6-ae72-453be280cb6a",
   "metadata": {},
   "outputs": [],
   "source": [
    "df_encoded = pd.get_dummies(df_interesse_parents, drop_first=True)"
   ]
  },
  {
   "cell_type": "code",
   "execution_count": null,
   "id": "71c2122f-8cee-41dc-bfc0-f8d17e80f6c3",
   "metadata": {},
   "outputs": [],
   "source": [
    "df_encoded.info()"
   ]
  },
  {
   "cell_type": "code",
   "execution_count": null,
   "id": "8000f7a7-7421-4a52-ad86-e3c60edc1f2d",
   "metadata": {},
   "outputs": [],
   "source": [
    "column_names = df_encoded.columns.tolist()\n",
    "feature_names = column_names[:-1]\n",
    "target_name = column_names[-1]"
   ]
  },
  {
   "cell_type": "code",
   "execution_count": null,
   "id": "0c504a32-8632-48f5-942b-6c78b0cafb0e",
   "metadata": {},
   "outputs": [],
   "source": [
    "feature_names"
   ]
  },
  {
   "cell_type": "code",
   "execution_count": null,
   "id": "e1ac5c7b-7515-4773-aabc-906b9efcee4a",
   "metadata": {},
   "outputs": [],
   "source": [
    "target_name"
   ]
  },
  {
   "cell_type": "code",
   "execution_count": null,
   "id": "973cf311-379d-4bd7-a091-9e2f13184f81",
   "metadata": {},
   "outputs": [],
   "source": [
    "df_encoded.head()"
   ]
  },
  {
   "cell_type": "markdown",
   "id": "736341ec-b748-44c1-869a-3b3ae341e168",
   "metadata": {},
   "source": [
    "## Erstelle Trainings- & Testdaten"
   ]
  },
  {
   "cell_type": "code",
   "execution_count": null,
   "id": "947b25b9-b62e-4e02-816d-b157ba5e0571",
   "metadata": {},
   "outputs": [],
   "source": [
    "x = df_encoded[feature_names]\n",
    "y = df_encoded[target_name]"
   ]
  },
  {
   "cell_type": "code",
   "execution_count": null,
   "id": "aa74ea22-abe8-4b74-a56f-de5bc7ca3faf",
   "metadata": {},
   "outputs": [],
   "source": [
    "test_size = 0.05\n",
    "x_train, x_test, y_train, y_test = train_test_split(x, y, test_size=test_size, random_state=42)"
   ]
  },
  {
   "cell_type": "markdown",
   "id": "4dc17e40-a484-4731-8afe-76753e86c33c",
   "metadata": {},
   "source": [
    "## Erstelle Logistisches Regressionsmodell"
   ]
  },
  {
   "cell_type": "code",
   "execution_count": null,
   "id": "b97aff8a-c20e-4e3b-a6db-1f07eccc716b",
   "metadata": {},
   "outputs": [],
   "source": [
    "from sklearn.linear_model import LogisticRegression\n",
    "\n",
    "model = LogisticRegression(class_weight=\"balanced\")"
   ]
  },
  {
   "cell_type": "markdown",
   "id": "498d9279-ecf6-499f-ae4e-a5f671f4b005",
   "metadata": {},
   "source": [
    "## Trainiere Logistisches Regressionsmodell"
   ]
  },
  {
   "cell_type": "code",
   "execution_count": null,
   "id": "76b046b5-fcae-446e-b284-b44f4a71e545",
   "metadata": {},
   "outputs": [],
   "source": [
    "model.fit(x_train, y_train)"
   ]
  },
  {
   "cell_type": "markdown",
   "id": "1bc81851-0f89-4449-8a7e-e800c35ed53e",
   "metadata": {},
   "source": [
    "## Mache Vorhersagen auf Testdatensatz"
   ]
  },
  {
   "cell_type": "code",
   "execution_count": null,
   "id": "0953f478-8bad-4ddb-a2fe-dabf37e06882",
   "metadata": {},
   "outputs": [],
   "source": [
    "y_pred = model.predict(x_test)"
   ]
  },
  {
   "cell_type": "markdown",
   "id": "82c46bd3-5dbb-4dbb-983d-dfe1c8ef56bc",
   "metadata": {},
   "source": [
    "## Modellbewertung"
   ]
  },
  {
   "cell_type": "code",
   "execution_count": null,
   "id": "55dd65a8-36ad-467a-ad5f-16338270a173",
   "metadata": {},
   "outputs": [],
   "source": [
    "from sklearn.metrics import accuracy_score\n",
    "\n",
    "accuracy = accuracy_score(y_test, y_pred)\n",
    "print(f'Accuracy: {accuracy*100:.2f}%')"
   ]
  },
  {
   "cell_type": "code",
   "execution_count": null,
   "id": "dce9c649-74cd-4ae0-ba56-887ba574b4a3",
   "metadata": {},
   "outputs": [],
   "source": [
    "from sklearn.metrics import confusion_matrix\n",
    "\n",
    "def show_confusion_heat_map(y_true, y_pred, data_label: str) -> None:\n",
    "    plt.figure(figsize=(4, 3))\n",
    "    cm = confusion_matrix(y_true, y_pred)\n",
    "    sns.heatmap(cm, annot=True, fmt='g', cmap='Blues')\n",
    "    plt.title(f\"Konfusionsmatrix für '{data_label}'\")\n",
    "    plt.xlabel('Vorhersagen')\n",
    "    plt.ylabel('Echte Werte')\n",
    "    plt.show()"
   ]
  },
  {
   "cell_type": "code",
   "execution_count": null,
   "id": "2eb79441-f07a-4abc-b7c7-14dae500a73f",
   "metadata": {},
   "outputs": [],
   "source": [
    "from sklearn.metrics import classification_report\n",
    "\n",
    "y_train_pred = model.predict(x_train)\n",
    "show_confusion_heat_map(y_train, y_train_pred, \"Trainingsdaten\")\n",
    "print(f\"\\nKlassifikations-Bericht: \\n{classification_report(y_train, y_train_pred)}\")"
   ]
  },
  {
   "cell_type": "code",
   "execution_count": null,
   "id": "1fb8f7ae-1695-4994-853c-d273a8f095e7",
   "metadata": {},
   "outputs": [],
   "source": [
    "y_test_pred = model.predict(x_test)\n",
    "show_confusion_heat_map(y_test, y_test_pred, \"Testdaten\")\n",
    "print(f\"\\nKlassifikations-Bericht: \\n{classification_report(y_test, y_test_pred)}\")"
   ]
  },
  {
   "cell_type": "markdown",
   "id": "8d22a3c5-b39b-41e8-be29-1a761d29a0fc",
   "metadata": {},
   "source": [
    "## Ableitung relevanter Einflussfaktoren"
   ]
  },
  {
   "cell_type": "code",
   "execution_count": null,
   "id": "f827fbe8-5dcc-4065-8e29-864e8b7f1f58",
   "metadata": {},
   "outputs": [],
   "source": [
    "coefficients = model.coef_[0].tolist()\n",
    "intercept = float(model.intercept_[0])\n",
    "\n",
    "print(f\"\\nIntercept={intercept:.2f}\", end=\"\\n\\n\")\n",
    "print(\"Modell-Koeffizienten, sortiert in absteigender Stärke\")\n",
    "df_coefficients = pd.DataFrame({\"Merkmal\": feature_names, \"Koeffizient\": coefficients, \"Odds Ratio\": np.exp(coefficients)})\n",
    "df_coefficients.sort_values(by=\"Koeffizient\", ascending=False)"
   ]
  },
  {
   "cell_type": "markdown",
   "id": "a59f969d-3abc-452a-afb6-23b2875c018e",
   "metadata": {},
   "source": [
    "# Diskussion der Ergebnisse"
   ]
  },
  {
   "attachments": {},
   "cell_type": "markdown",
   "id": "9e8de88e-4b7f-4a7a-b0a1-9c250a3e6dfb",
   "metadata": {},
   "source": [
    "**Diskussion der Modellergebnisse und der wichtigsten Einflussfaktoren**:\n",
    "\n",
    "* **Positiver Beitrag**: Ein `Vorschaden` **(OR: 7.18)** erhöht die Wahrscheinlichkeit am stärksten, gefolgt von `Fahrerlaubnis` **(OR: 2.86)** und jungem `Alter_cat_1` **(OR: 1.72)**.\n",
    "* **Negativer Beitrag**: Eine `Vorversicherung` **(OR: 0.02)** und bestimmte `Vertriebskanäle` senken die Wahrscheinlichkeit deutlich.\n",
    "* **Moderate Effekte**: Ein hohes Fahrzeugalter `Alter_Fzg_2` **(OR: 1.24)** sowie `Regionale Faktoren` und der `Jahresbeitrag` beeinflussen das Modell nur leicht.\n",
    "\n",
    "Die logistische Regression wurde auf gebinnten Daten trainiert, wobei eine Mischung aus ursprünglich diskreten und kontinuierlichen Merkmalen in Kategorien überführt wurde. \n",
    "Die Ergebnisse zeigen eine deutliche Diskrepanz zwischen der Modellleistung für die Klassen False (Kein Interesse) und True (Interesse) der Zielvariablen `Interesse`.\n",
    "\n",
    "**Genauigkeit und Gesamtbewertung**: \n",
    "* Mit einer Gesamtgenauigkeit (`Accuracy`) von etwa **68 %** auf den Trainings- bzw. **69 %** auf den Testdaten scheint das Modell auf den ersten Blick eine moderate Leistung zu haben.\n",
    "* Allerdings zeigt ein genauerer Blick auf die Klassifikationsmetriken, dass die Genauigkeit primär von der stark ungleichen Klassenverteilung beeinflusst wird - die Klasse False (kein Interesse) dominiert mit einem viel höheren Anteil (ca. **88 %** der Daten).\n",
    "\n",
    "**Leistung für die Mehrheitsklasse auf Testdaten (False, kein Interesse)**: \n",
    "* Die `Precision` für False ist mit **99 %** sehr hoch, was bedeutet, dass fast alle als \"False\" klassifizierten Instanzen tatsächlich nicht abgeschlossen wurden.\n",
    "* Der `Recall` für False liegt jedoch nur bei **65 %**, was zeigt, dass ein erheblicher Anteil der tatsächlich Uninteressierten fälschlicherweise als \"True\" klassifiziert wird.\n",
    "\n",
    "**Leistung für die Minderheitsklasse auf Testdaten (True, Interesse)**:\n",
    "* Die `Precision` für True ist sehr niedrig **28 %**, was bedeutet, dass viele Kunden, die als interessiert (True) klassifiziert werden, in Wirklichkeit kein Interesse haben.\n",
    "* Der `Recall` für True ist dagegen extrem hoch **95 %**, was zeigt, dass fast alle tatsächlichen Interessenten korrekt erkannt werden.\n",
    "\n",
    "**Interpretation der Ergebnisse**:\n",
    "* Das Modell ist darauf optimiert, möglichst viele Interessenten zu identifizieren (hoher Recall für True), nimmt dabei aber viele False Positives in Kauf (niedrige Precision für True).\n",
    "Diese Verzerrung könnte durch die binning-bedingte Informationsverringerung verstärkt worden sein. Die Diskretisierung der kontinuierlichen Variablen könnte dazu geführt haben, dass wichtige Muster in den Daten verloren gingen, die für eine präzisere Trennung der Klassen notwendig wären.\n",
    "\n",
    "**Mögliche Verbesserungen**:\n",
    "* Siehe Ausblick unten\n",
    "\n",
    "**Fazit**:\n",
    "* Das Modell erkennt potenzielle Interessenten zuverlässig (hoher Recall), produziert jedoch viele False Positives (niedrige Precision).\n",
    "* Eine Verfeinerung der Features, der Schwellenwerte oder der Modellarchitektur könnte dazu beitragen, ein besseres Gleichgewicht zwischen Precision und Recall zu erreichen."
   ]
  },
  {
   "cell_type": "markdown",
   "id": "95a01412-daaf-4500-8a7f-86aa5eef3645",
   "metadata": {},
   "source": [
    "# Ausblick"
   ]
  },
  {
   "cell_type": "markdown",
   "id": "827a3962-b2b8-4bc4-bc3d-f56ca8605e54",
   "metadata": {},
   "source": [
    "Wie könnte man das Modell verbessern?\n",
    "\n",
    "Möglichkeiten zur Verbesserung des Modells für die Vorhersage der Kundenaffinität zum Abschluss einer Kfz-Versicherung:\n",
    "\n",
    "1. **Verwendung eines ausdrucksstärkeren Modells**: Es könnte sinnvoll sein, ein leistungsfähigeres Modell zu testen (siehe Modellvorschläge oben), da möglicherweise nichtlineare Zusammenhänge zwischen den Merkmalen bestehen, die von einem linearen Modell nicht erfasst werden.\n",
    "2. **Fehler durch gebinnte Daten**: Das verwendete (lineare) Modell wurde auf gebinnten Daten trainiert, was zu einem Verlust an Detailgenauigkeit in den Daten führen kann. Die so generierten Merkmale sind weniger fein granular, wodurch insbesondere bei kontinuierlichen Merkmalen wertvolle Informationen verloren gehen. Darüber hinaus könnte das Binning selbst optimiert werden, z.B. indem andere Grenzen zwischen Kategorien gezogen werden.\n",
    "3. **Untersuchung des kausalen Graphen**: Der zugrunde liegende kausale Graph (d.h. der datengenerierende Prozess) sollte genauer untersucht werden, um die Ursachen zu identifizieren, wann ein Kunde ein \"Interesse\" für eine Kfz-Versicherung entwickelt.\n",
    "4. **Berücksichtigung unbekannter, kausaler Einflussfaktoren**: Mögliche unbekannte Einflussfaktoren im datengenerierenden Prozess bzw. im kausalen Graphen wurden bislang nicht berücksichtigt. Diese könnten jedoch eine kausale Rolle beim „Interesse“ spielen und wertvolle Hinweise darauf geben, warum ein Kunde an einer Kfz-Versicherung interessiert sein könnte."
   ]
  }
 ],
 "metadata": {
  "kernelspec": {
   "display_name": "Python 3 (ipykernel)",
   "language": "python",
   "name": "python3"
  },
  "language_info": {
   "codemirror_mode": {
    "name": "ipython",
    "version": 3
   },
   "file_extension": ".py",
   "mimetype": "text/x-python",
   "name": "python",
   "nbconvert_exporter": "python",
   "pygments_lexer": "ipython3",
   "version": "3.12.9"
  }
 },
 "nbformat": 4,
 "nbformat_minor": 5
}
